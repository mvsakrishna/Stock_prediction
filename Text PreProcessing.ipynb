{
 "cells": [
  {
   "cell_type": "code",
   "execution_count": 1,
   "metadata": {
    "scrolled": true
   },
   "outputs": [
    {
     "name": "stderr",
     "output_type": "stream",
     "text": [
      "/home/Yusuf/anaconda3/lib/python3.6/site-packages/h5py/__init__.py:36: FutureWarning: Conversion of the second argument of issubdtype from `float` to `np.floating` is deprecated. In future, it will be treated as `np.float64 == np.dtype(float).type`.\n",
      "  from ._conv import register_converters as _register_converters\n"
     ]
    }
   ],
   "source": [
    "import pandas as pd\n",
    "import numpy as np\n",
    "import tensorflow\n",
    "import ast\n",
    "import re\n",
    "import matplotlib.pyplot as plt\n",
    "import seaborn as sns"
   ]
  },
  {
   "cell_type": "code",
   "execution_count": 2,
   "metadata": {},
   "outputs": [
    {
     "data": {
      "text/html": [
       "<div>\n",
       "<style scoped>\n",
       "    .dataframe tbody tr th:only-of-type {\n",
       "        vertical-align: middle;\n",
       "    }\n",
       "\n",
       "    .dataframe tbody tr th {\n",
       "        vertical-align: top;\n",
       "    }\n",
       "\n",
       "    .dataframe thead th {\n",
       "        text-align: right;\n",
       "    }\n",
       "</style>\n",
       "<table border=\"1\" class=\"dataframe\">\n",
       "  <thead>\n",
       "    <tr style=\"text-align: right;\">\n",
       "      <th></th>\n",
       "      <th>Unnamed: 0</th>\n",
       "      <th>ticker</th>\n",
       "      <th>cik</th>\n",
       "      <th>doc_name</th>\n",
       "      <th>txt_link</th>\n",
       "      <th>GICS Sector</th>\n",
       "      <th>text</th>\n",
       "      <th>release_date</th>\n",
       "      <th>items</th>\n",
       "      <th>price_change</th>\n",
       "      <th>vix</th>\n",
       "      <th>rm_week</th>\n",
       "      <th>rm_month</th>\n",
       "      <th>rm_qtr</th>\n",
       "      <th>rm_year</th>\n",
       "      <th>signal</th>\n",
       "    </tr>\n",
       "  </thead>\n",
       "  <tbody>\n",
       "    <tr>\n",
       "      <th>0</th>\n",
       "      <td>0</td>\n",
       "      <td>A</td>\n",
       "      <td>1090872</td>\n",
       "      <td>0001564590-18-006570.txt</td>\n",
       "      <td>http://www.sec.gov/Archives/edgar/data/1090872...</td>\n",
       "      <td>Health Care</td>\n",
       "      <td>0001564590-18-006570.txt : 20180322 0001564590...</td>\n",
       "      <td>2018-03-22 16:22:07</td>\n",
       "      <td>['Item 5.07']</td>\n",
       "      <td>0.28</td>\n",
       "      <td>23.34</td>\n",
       "      <td>-0.41</td>\n",
       "      <td>-3.07</td>\n",
       "      <td>2.01</td>\n",
       "      <td>26.67</td>\n",
       "      <td>stay</td>\n",
       "    </tr>\n",
       "    <tr>\n",
       "      <th>1</th>\n",
       "      <td>1</td>\n",
       "      <td>A</td>\n",
       "      <td>1090872</td>\n",
       "      <td>0001090872-18-000002.txt</td>\n",
       "      <td>http://www.sec.gov/Archives/edgar/data/1090872...</td>\n",
       "      <td>Health Care</td>\n",
       "      <td>0001090872-18-000002.txt : 20180214 0001090872...</td>\n",
       "      <td>2018-02-14 16:27:02</td>\n",
       "      <td>['Item 2.02', 'Item 2.02', 'Item 9.01']</td>\n",
       "      <td>7.22</td>\n",
       "      <td>19.26</td>\n",
       "      <td>1.95</td>\n",
       "      <td>-5.76</td>\n",
       "      <td>-3.94</td>\n",
       "      <td>35.67</td>\n",
       "      <td>up</td>\n",
       "    </tr>\n",
       "    <tr>\n",
       "      <th>2</th>\n",
       "      <td>2</td>\n",
       "      <td>A</td>\n",
       "      <td>1090872</td>\n",
       "      <td>0001564590-18-000605.txt</td>\n",
       "      <td>http://www.sec.gov/Archives/edgar/data/1090872...</td>\n",
       "      <td>Health Care</td>\n",
       "      <td>0001564590-18-000605.txt : 20180118 0001564590...</td>\n",
       "      <td>2018-01-18 16:09:52</td>\n",
       "      <td>['Item 5.02', 'Item 9.01']</td>\n",
       "      <td>0.47</td>\n",
       "      <td>12.22</td>\n",
       "      <td>1.22</td>\n",
       "      <td>5.17</td>\n",
       "      <td>3.38</td>\n",
       "      <td>39.20</td>\n",
       "      <td>stay</td>\n",
       "    </tr>\n",
       "    <tr>\n",
       "      <th>3</th>\n",
       "      <td>3</td>\n",
       "      <td>A</td>\n",
       "      <td>1090872</td>\n",
       "      <td>0001090872-17-000015.txt</td>\n",
       "      <td>http://www.sec.gov/Archives/edgar/data/1090872...</td>\n",
       "      <td>Health Care</td>\n",
       "      <td>0001090872-17-000015.txt : 20171120 0001090872...</td>\n",
       "      <td>2017-11-20 16:09:02</td>\n",
       "      <td>['Item 2.02', 'Item 2.02', 'Item 9.01']</td>\n",
       "      <td>0.31</td>\n",
       "      <td>10.65</td>\n",
       "      <td>2.71</td>\n",
       "      <td>1.31</td>\n",
       "      <td>10.13</td>\n",
       "      <td>40.26</td>\n",
       "      <td>stay</td>\n",
       "    </tr>\n",
       "    <tr>\n",
       "      <th>4</th>\n",
       "      <td>4</td>\n",
       "      <td>A</td>\n",
       "      <td>1090872</td>\n",
       "      <td>0001090872-17-000011.txt</td>\n",
       "      <td>http://www.sec.gov/Archives/edgar/data/1090872...</td>\n",
       "      <td>Health Care</td>\n",
       "      <td>0001090872-17-000011.txt : 20170815 0001090872...</td>\n",
       "      <td>2017-08-15 16:12:29</td>\n",
       "      <td>['Item 2.02', 'Item 2.02', 'Item 9.01']</td>\n",
       "      <td>5.19</td>\n",
       "      <td>12.04</td>\n",
       "      <td>-0.21</td>\n",
       "      <td>-3.34</td>\n",
       "      <td>4.39</td>\n",
       "      <td>21.40</td>\n",
       "      <td>up</td>\n",
       "    </tr>\n",
       "  </tbody>\n",
       "</table>\n",
       "</div>"
      ],
      "text/plain": [
       "   Unnamed: 0 ticker      cik                  doc_name  \\\n",
       "0           0      A  1090872  0001564590-18-006570.txt   \n",
       "1           1      A  1090872  0001090872-18-000002.txt   \n",
       "2           2      A  1090872  0001564590-18-000605.txt   \n",
       "3           3      A  1090872  0001090872-17-000015.txt   \n",
       "4           4      A  1090872  0001090872-17-000011.txt   \n",
       "\n",
       "                                            txt_link  GICS Sector  \\\n",
       "0  http://www.sec.gov/Archives/edgar/data/1090872...  Health Care   \n",
       "1  http://www.sec.gov/Archives/edgar/data/1090872...  Health Care   \n",
       "2  http://www.sec.gov/Archives/edgar/data/1090872...  Health Care   \n",
       "3  http://www.sec.gov/Archives/edgar/data/1090872...  Health Care   \n",
       "4  http://www.sec.gov/Archives/edgar/data/1090872...  Health Care   \n",
       "\n",
       "                                                text         release_date  \\\n",
       "0  0001564590-18-006570.txt : 20180322 0001564590...  2018-03-22 16:22:07   \n",
       "1  0001090872-18-000002.txt : 20180214 0001090872...  2018-02-14 16:27:02   \n",
       "2  0001564590-18-000605.txt : 20180118 0001564590...  2018-01-18 16:09:52   \n",
       "3  0001090872-17-000015.txt : 20171120 0001090872...  2017-11-20 16:09:02   \n",
       "4  0001090872-17-000011.txt : 20170815 0001090872...  2017-08-15 16:12:29   \n",
       "\n",
       "                                     items  price_change    vix  rm_week  \\\n",
       "0                            ['Item 5.07']          0.28  23.34    -0.41   \n",
       "1  ['Item 2.02', 'Item 2.02', 'Item 9.01']          7.22  19.26     1.95   \n",
       "2               ['Item 5.02', 'Item 9.01']          0.47  12.22     1.22   \n",
       "3  ['Item 2.02', 'Item 2.02', 'Item 9.01']          0.31  10.65     2.71   \n",
       "4  ['Item 2.02', 'Item 2.02', 'Item 9.01']          5.19  12.04    -0.21   \n",
       "\n",
       "   rm_month  rm_qtr  rm_year signal  \n",
       "0     -3.07    2.01    26.67   stay  \n",
       "1     -5.76   -3.94    35.67     up  \n",
       "2      5.17    3.38    39.20   stay  \n",
       "3      1.31   10.13    40.26   stay  \n",
       "4     -3.34    4.39    21.40     up  "
      ]
     },
     "execution_count": 2,
     "metadata": {},
     "output_type": "execute_result"
    }
   ],
   "source": [
    "df = pd.read_csv(\"Data/texts_and_fin.csv\")\n",
    "df.head()"
   ]
  },
  {
   "cell_type": "code",
   "execution_count": 3,
   "metadata": {},
   "outputs": [],
   "source": [
    "df['release_date'] = df['release_date'].map(lambda x: pd.to_datetime(x))\n",
    "df['items'] = df['items'].map(lambda x: ast.literal_eval(x))"
   ]
  },
  {
   "cell_type": "markdown",
   "metadata": {},
   "source": [
    "## Text PreProcessing\n",
    "1. Remove extra whitespace\n",
    "2. Tokenize\n",
    "3. Remove punctuation, stopwords, convert to lower case\n",
    "4. Lemmatize\n",
    "5. Load pre-trained word embeddings"
   ]
  },
  {
   "cell_type": "code",
   "execution_count": 3,
   "metadata": {
    "scrolled": true
   },
   "outputs": [],
   "source": [
    "# import spacy\n",
    "# from nltk.corpus import stopwords\n",
    "# import string\n",
    "# import matplotlib.pyplot as plt\n",
    "# import seaborn as sns\n",
    "\n",
    "# stop_words = stopwords.words(\"english\")\n",
    "# nlp = spacy.load(\"en_core_web_sm\")\n",
    "# nlp.max_length = 76131683\n",
    "\n",
    "# punctuations = string.punctuation\n",
    "\n",
    "from nltk.corpus import stopwords\n",
    "stop_words = stopwords.words(\"english\")\n",
    "from nltk.stem import WordNetLemmatizer\n",
    "from nltk.tokenize import word_tokenize\n",
    "wordnet_lemmatizer = WordNetLemmatizer()\n",
    "import string\n",
    "punctuations = string.punctuation\n",
    "import matplotlib.pyplot as plt\n",
    "import seaborn as sns\n",
    "\n",
    "import dask.dataframe as dd\n",
    "from dask.multiprocessing import get\n",
    "from dask.diagnostics import ProgressBar"
   ]
  },
  {
   "cell_type": "code",
   "execution_count": 4,
   "metadata": {},
   "outputs": [],
   "source": [
    "def cleanup_text(doc, logging=False):\n",
    "    doc = re.sub( '\\s+', ' ', doc ).strip()\n",
    "    doc = nlp(doc, disable=['parser', 'ner'])\n",
    "    tokens = [tok.lemma_.lower().strip() for tok in doc]\n",
    "    tokens = [tok for tok in tokens if tok.isalpha()]\n",
    "    tokens = [tok for tok in tokens if tok not in stop_words and tok not in punctuations]\n",
    "    tokens_len = len(tokens)\n",
    "    tokens = ' '.join(tokens)\n",
    "    return tokens,tokens_len\n",
    "\n",
    "def nltk_tokenizer(text):\n",
    "    try:\n",
    "        tokens = [word for word in word_tokenize(text) if word.isalpha()]\n",
    "        tokens = list(filter(lambda t: t not in punctuations, tokens))\n",
    "        tokens = list(filter(lambda t: t.lower() not in stop_words, tokens))\n",
    "        filtered_tokens = []\n",
    "        for token in tokens:\n",
    "            if re.search('[a-zA-Z]', token):\n",
    "                filtered_tokens.append(token)\n",
    "        filtered_tokens = list(\n",
    "            map(lambda token: wordnet_lemmatizer.lemmatize(token.lower()), filtered_tokens))\n",
    "        filtered_tokens = list(filter(lambda t: t not in punctuations, filtered_tokens))\n",
    "        return filtered_tokens\n",
    "    except Exception as e:\n",
    "        raise e\n",
    "\n",
    "def dask_tokenizer(df):\n",
    "    df['processed_text'] = df['text'].map(nltk_tokenizer)\n",
    "    df['text_len'] = df['processed_text'].map(lambda x: len(x))\n",
    "    return df"
   ]
  },
  {
   "cell_type": "code",
   "execution_count": 8,
   "metadata": {
    "scrolled": false
   },
   "outputs": [
    {
     "name": "stdout",
     "output_type": "stream",
     "text": [
      "[                                        ] | 0% Completed |  8min 40.5s"
     ]
    },
    {
     "name": "stderr",
     "output_type": "stream",
     "text": [
      "IOPub message rate exceeded.\n",
      "The notebook server will temporarily stop sending output\n",
      "to the client in order to avoid crashing it.\n",
      "To change this limit, set the config variable\n",
      "`--NotebookApp.iopub_msg_rate_limit`.\n",
      "\n",
      "Current values:\n",
      "NotebookApp.iopub_msg_rate_limit=1000.0 (msgs/sec)\n",
      "NotebookApp.rate_limit_window=3.0 (secs)\n",
      "\n"
     ]
    },
    {
     "name": "stdout",
     "output_type": "stream",
     "text": [
      "[                                        ] | 0% Completed | 11min 28.6s"
     ]
    },
    {
     "name": "stderr",
     "output_type": "stream",
     "text": [
      "IOPub message rate exceeded.\n",
      "The notebook server will temporarily stop sending output\n",
      "to the client in order to avoid crashing it.\n",
      "To change this limit, set the config variable\n",
      "`--NotebookApp.iopub_msg_rate_limit`.\n",
      "\n",
      "Current values:\n",
      "NotebookApp.iopub_msg_rate_limit=1000.0 (msgs/sec)\n",
      "NotebookApp.rate_limit_window=3.0 (secs)\n",
      "\n"
     ]
    },
    {
     "name": "stdout",
     "output_type": "stream",
     "text": [
      "[#########                               ] | 22% Completed | 30min 14.2s"
     ]
    },
    {
     "name": "stderr",
     "output_type": "stream",
     "text": [
      "IOPub message rate exceeded.\n",
      "The notebook server will temporarily stop sending output\n",
      "to the client in order to avoid crashing it.\n",
      "To change this limit, set the config variable\n",
      "`--NotebookApp.iopub_msg_rate_limit`.\n",
      "\n",
      "Current values:\n",
      "NotebookApp.iopub_msg_rate_limit=1000.0 (msgs/sec)\n",
      "NotebookApp.rate_limit_window=3.0 (secs)\n",
      "\n"
     ]
    },
    {
     "name": "stdout",
     "output_type": "stream",
     "text": [
      "[############################            ] | 70% Completed | 46min 56.1s"
     ]
    },
    {
     "name": "stderr",
     "output_type": "stream",
     "text": [
      "IOPub message rate exceeded.\n",
      "The notebook server will temporarily stop sending output\n",
      "to the client in order to avoid crashing it.\n",
      "To change this limit, set the config variable\n",
      "`--NotebookApp.iopub_msg_rate_limit`.\n",
      "\n",
      "Current values:\n",
      "NotebookApp.iopub_msg_rate_limit=1000.0 (msgs/sec)\n",
      "NotebookApp.rate_limit_window=3.0 (secs)\n",
      "\n"
     ]
    },
    {
     "name": "stdout",
     "output_type": "stream",
     "text": [
      "[################################        ] | 80% Completed | 52min 58.2s"
     ]
    },
    {
     "name": "stderr",
     "output_type": "stream",
     "text": [
      "IOPub message rate exceeded.\n",
      "The notebook server will temporarily stop sending output\n",
      "to the client in order to avoid crashing it.\n",
      "To change this limit, set the config variable\n",
      "`--NotebookApp.iopub_msg_rate_limit`.\n",
      "\n",
      "Current values:\n",
      "NotebookApp.iopub_msg_rate_limit=1000.0 (msgs/sec)\n",
      "NotebookApp.rate_limit_window=3.0 (secs)\n",
      "\n"
     ]
    },
    {
     "name": "stdout",
     "output_type": "stream",
     "text": [
      "[########################################] | 100% Completed |  1hr  8min  7.7s\n",
      "[########################################] | 100% Completed |  1hr  8min  7.8s\n",
      "[########################################] | 100% Completed |  1hr  8min  7.9s\n"
     ]
    }
   ],
   "source": [
    "pbar = ProgressBar()\n",
    "pbar.register()\n",
    "ddata = dd.from_pandas(df, npartitions=20)\n",
    "df = ddata.map_partitions(dask_tokenizer).compute(get=get)"
   ]
  },
  {
   "cell_type": "code",
   "execution_count": 9,
   "metadata": {},
   "outputs": [
    {
     "data": {
      "text/html": [
       "<div>\n",
       "<style scoped>\n",
       "    .dataframe tbody tr th:only-of-type {\n",
       "        vertical-align: middle;\n",
       "    }\n",
       "\n",
       "    .dataframe tbody tr th {\n",
       "        vertical-align: top;\n",
       "    }\n",
       "\n",
       "    .dataframe thead th {\n",
       "        text-align: right;\n",
       "    }\n",
       "</style>\n",
       "<table border=\"1\" class=\"dataframe\">\n",
       "  <thead>\n",
       "    <tr style=\"text-align: right;\">\n",
       "      <th></th>\n",
       "      <th>Unnamed: 0</th>\n",
       "      <th>ticker</th>\n",
       "      <th>cik</th>\n",
       "      <th>doc_name</th>\n",
       "      <th>txt_link</th>\n",
       "      <th>GICS Sector</th>\n",
       "      <th>text</th>\n",
       "      <th>release_date</th>\n",
       "      <th>items</th>\n",
       "      <th>price_change</th>\n",
       "      <th>vix</th>\n",
       "      <th>rm_week</th>\n",
       "      <th>rm_month</th>\n",
       "      <th>rm_qtr</th>\n",
       "      <th>rm_year</th>\n",
       "      <th>signal</th>\n",
       "      <th>processed_text</th>\n",
       "      <th>text_len</th>\n",
       "    </tr>\n",
       "  </thead>\n",
       "  <tbody>\n",
       "    <tr>\n",
       "      <th>0</th>\n",
       "      <td>0</td>\n",
       "      <td>A</td>\n",
       "      <td>1090872</td>\n",
       "      <td>0001564590-18-006570.txt</td>\n",
       "      <td>http://www.sec.gov/Archives/edgar/data/1090872...</td>\n",
       "      <td>Health Care</td>\n",
       "      <td>0001564590-18-006570.txt : 20180322 0001564590...</td>\n",
       "      <td>2018-03-22 16:22:07</td>\n",
       "      <td>['Item 5.07']</td>\n",
       "      <td>0.28</td>\n",
       "      <td>23.34</td>\n",
       "      <td>-0.41</td>\n",
       "      <td>-3.07</td>\n",
       "      <td>2.01</td>\n",
       "      <td>26.67</td>\n",
       "      <td>stay</td>\n",
       "      <td>[accession, number, conformed, submission, typ...</td>\n",
       "      <td>310</td>\n",
       "    </tr>\n",
       "    <tr>\n",
       "      <th>1</th>\n",
       "      <td>1</td>\n",
       "      <td>A</td>\n",
       "      <td>1090872</td>\n",
       "      <td>0001090872-18-000002.txt</td>\n",
       "      <td>http://www.sec.gov/Archives/edgar/data/1090872...</td>\n",
       "      <td>Health Care</td>\n",
       "      <td>0001090872-18-000002.txt : 20180214 0001090872...</td>\n",
       "      <td>2018-02-14 16:27:02</td>\n",
       "      <td>['Item 2.02', 'Item 2.02', 'Item 9.01']</td>\n",
       "      <td>7.22</td>\n",
       "      <td>19.26</td>\n",
       "      <td>1.95</td>\n",
       "      <td>-5.76</td>\n",
       "      <td>-3.94</td>\n",
       "      <td>35.67</td>\n",
       "      <td>up</td>\n",
       "      <td>[accession, number, conformed, submission, typ...</td>\n",
       "      <td>2005</td>\n",
       "    </tr>\n",
       "    <tr>\n",
       "      <th>2</th>\n",
       "      <td>2</td>\n",
       "      <td>A</td>\n",
       "      <td>1090872</td>\n",
       "      <td>0001564590-18-000605.txt</td>\n",
       "      <td>http://www.sec.gov/Archives/edgar/data/1090872...</td>\n",
       "      <td>Health Care</td>\n",
       "      <td>0001564590-18-000605.txt : 20180118 0001564590...</td>\n",
       "      <td>2018-01-18 16:09:52</td>\n",
       "      <td>['Item 5.02', 'Item 9.01']</td>\n",
       "      <td>0.47</td>\n",
       "      <td>12.22</td>\n",
       "      <td>1.22</td>\n",
       "      <td>5.17</td>\n",
       "      <td>3.38</td>\n",
       "      <td>39.20</td>\n",
       "      <td>stay</td>\n",
       "      <td>[accession, number, conformed, submission, typ...</td>\n",
       "      <td>815</td>\n",
       "    </tr>\n",
       "    <tr>\n",
       "      <th>3</th>\n",
       "      <td>3</td>\n",
       "      <td>A</td>\n",
       "      <td>1090872</td>\n",
       "      <td>0001090872-17-000015.txt</td>\n",
       "      <td>http://www.sec.gov/Archives/edgar/data/1090872...</td>\n",
       "      <td>Health Care</td>\n",
       "      <td>0001090872-17-000015.txt : 20171120 0001090872...</td>\n",
       "      <td>2017-11-20 16:09:02</td>\n",
       "      <td>['Item 2.02', 'Item 2.02', 'Item 9.01']</td>\n",
       "      <td>0.31</td>\n",
       "      <td>10.65</td>\n",
       "      <td>2.71</td>\n",
       "      <td>1.31</td>\n",
       "      <td>10.13</td>\n",
       "      <td>40.26</td>\n",
       "      <td>stay</td>\n",
       "      <td>[accession, number, conformed, submission, typ...</td>\n",
       "      <td>1794</td>\n",
       "    </tr>\n",
       "    <tr>\n",
       "      <th>4</th>\n",
       "      <td>4</td>\n",
       "      <td>A</td>\n",
       "      <td>1090872</td>\n",
       "      <td>0001090872-17-000011.txt</td>\n",
       "      <td>http://www.sec.gov/Archives/edgar/data/1090872...</td>\n",
       "      <td>Health Care</td>\n",
       "      <td>0001090872-17-000011.txt : 20170815 0001090872...</td>\n",
       "      <td>2017-08-15 16:12:29</td>\n",
       "      <td>['Item 2.02', 'Item 2.02', 'Item 9.01']</td>\n",
       "      <td>5.19</td>\n",
       "      <td>12.04</td>\n",
       "      <td>-0.21</td>\n",
       "      <td>-3.34</td>\n",
       "      <td>4.39</td>\n",
       "      <td>21.40</td>\n",
       "      <td>up</td>\n",
       "      <td>[accession, number, conformed, submission, typ...</td>\n",
       "      <td>1816</td>\n",
       "    </tr>\n",
       "  </tbody>\n",
       "</table>\n",
       "</div>"
      ],
      "text/plain": [
       "   Unnamed: 0 ticker      cik                  doc_name  \\\n",
       "0           0      A  1090872  0001564590-18-006570.txt   \n",
       "1           1      A  1090872  0001090872-18-000002.txt   \n",
       "2           2      A  1090872  0001564590-18-000605.txt   \n",
       "3           3      A  1090872  0001090872-17-000015.txt   \n",
       "4           4      A  1090872  0001090872-17-000011.txt   \n",
       "\n",
       "                                            txt_link  GICS Sector  \\\n",
       "0  http://www.sec.gov/Archives/edgar/data/1090872...  Health Care   \n",
       "1  http://www.sec.gov/Archives/edgar/data/1090872...  Health Care   \n",
       "2  http://www.sec.gov/Archives/edgar/data/1090872...  Health Care   \n",
       "3  http://www.sec.gov/Archives/edgar/data/1090872...  Health Care   \n",
       "4  http://www.sec.gov/Archives/edgar/data/1090872...  Health Care   \n",
       "\n",
       "                                                text         release_date  \\\n",
       "0  0001564590-18-006570.txt : 20180322 0001564590...  2018-03-22 16:22:07   \n",
       "1  0001090872-18-000002.txt : 20180214 0001090872...  2018-02-14 16:27:02   \n",
       "2  0001564590-18-000605.txt : 20180118 0001564590...  2018-01-18 16:09:52   \n",
       "3  0001090872-17-000015.txt : 20171120 0001090872...  2017-11-20 16:09:02   \n",
       "4  0001090872-17-000011.txt : 20170815 0001090872...  2017-08-15 16:12:29   \n",
       "\n",
       "                                     items  price_change    vix  rm_week  \\\n",
       "0                            ['Item 5.07']          0.28  23.34    -0.41   \n",
       "1  ['Item 2.02', 'Item 2.02', 'Item 9.01']          7.22  19.26     1.95   \n",
       "2               ['Item 5.02', 'Item 9.01']          0.47  12.22     1.22   \n",
       "3  ['Item 2.02', 'Item 2.02', 'Item 9.01']          0.31  10.65     2.71   \n",
       "4  ['Item 2.02', 'Item 2.02', 'Item 9.01']          5.19  12.04    -0.21   \n",
       "\n",
       "   rm_month  rm_qtr  rm_year signal  \\\n",
       "0     -3.07    2.01    26.67   stay   \n",
       "1     -5.76   -3.94    35.67     up   \n",
       "2      5.17    3.38    39.20   stay   \n",
       "3      1.31   10.13    40.26   stay   \n",
       "4     -3.34    4.39    21.40     up   \n",
       "\n",
       "                                      processed_text  text_len  \n",
       "0  [accession, number, conformed, submission, typ...       310  \n",
       "1  [accession, number, conformed, submission, typ...      2005  \n",
       "2  [accession, number, conformed, submission, typ...       815  \n",
       "3  [accession, number, conformed, submission, typ...      1794  \n",
       "4  [accession, number, conformed, submission, typ...      1816  "
      ]
     },
     "execution_count": 9,
     "metadata": {},
     "output_type": "execute_result"
    }
   ],
   "source": [
    "df.head()"
   ]
  },
  {
   "cell_type": "code",
   "execution_count": null,
   "metadata": {},
   "outputs": [],
   "source": [
    "df.to_csv(\"Data/lemmatized_text.csv\",chunksize=1000)"
   ]
  },
  {
   "cell_type": "code",
   "execution_count": 120,
   "metadata": {
    "scrolled": true
   },
   "outputs": [
    {
     "data": {
      "text/html": [
       "<div>\n",
       "<style scoped>\n",
       "    .dataframe tbody tr th:only-of-type {\n",
       "        vertical-align: middle;\n",
       "    }\n",
       "\n",
       "    .dataframe tbody tr th {\n",
       "        vertical-align: top;\n",
       "    }\n",
       "\n",
       "    .dataframe thead th {\n",
       "        text-align: right;\n",
       "    }\n",
       "</style>\n",
       "<table border=\"1\" class=\"dataframe\">\n",
       "  <thead>\n",
       "    <tr style=\"text-align: right;\">\n",
       "      <th></th>\n",
       "      <th>Unnamed: 0</th>\n",
       "      <th>Unnamed: 0.1</th>\n",
       "      <th>ticker</th>\n",
       "      <th>cik</th>\n",
       "      <th>doc_name</th>\n",
       "      <th>txt_link</th>\n",
       "      <th>GICS Sector</th>\n",
       "      <th>text</th>\n",
       "      <th>release_date</th>\n",
       "      <th>items</th>\n",
       "      <th>price_change</th>\n",
       "      <th>vix</th>\n",
       "      <th>rm_week</th>\n",
       "      <th>rm_month</th>\n",
       "      <th>rm_qtr</th>\n",
       "      <th>rm_year</th>\n",
       "      <th>signal</th>\n",
       "      <th>processed_text</th>\n",
       "      <th>text_len</th>\n",
       "    </tr>\n",
       "  </thead>\n",
       "  <tbody>\n",
       "    <tr>\n",
       "      <th>0</th>\n",
       "      <td>0</td>\n",
       "      <td>0</td>\n",
       "      <td>A</td>\n",
       "      <td>1090872</td>\n",
       "      <td>0001564590-18-006570.txt</td>\n",
       "      <td>http://www.sec.gov/Archives/edgar/data/1090872...</td>\n",
       "      <td>Health Care</td>\n",
       "      <td>0001564590-18-006570.txt : 20180322 0001564590...</td>\n",
       "      <td>2018-03-22 16:22:07</td>\n",
       "      <td>['Item 5.07']</td>\n",
       "      <td>0.28</td>\n",
       "      <td>23.34</td>\n",
       "      <td>-0.41</td>\n",
       "      <td>-3.07</td>\n",
       "      <td>2.01</td>\n",
       "      <td>26.67</td>\n",
       "      <td>stay</td>\n",
       "      <td>['accession', 'number', 'conformed', 'submissi...</td>\n",
       "      <td>310</td>\n",
       "    </tr>\n",
       "    <tr>\n",
       "      <th>1</th>\n",
       "      <td>1</td>\n",
       "      <td>1</td>\n",
       "      <td>A</td>\n",
       "      <td>1090872</td>\n",
       "      <td>0001090872-18-000002.txt</td>\n",
       "      <td>http://www.sec.gov/Archives/edgar/data/1090872...</td>\n",
       "      <td>Health Care</td>\n",
       "      <td>0001090872-18-000002.txt : 20180214 0001090872...</td>\n",
       "      <td>2018-02-14 16:27:02</td>\n",
       "      <td>['Item 2.02', 'Item 2.02', 'Item 9.01']</td>\n",
       "      <td>7.22</td>\n",
       "      <td>19.26</td>\n",
       "      <td>1.95</td>\n",
       "      <td>-5.76</td>\n",
       "      <td>-3.94</td>\n",
       "      <td>35.67</td>\n",
       "      <td>up</td>\n",
       "      <td>['accession', 'number', 'conformed', 'submissi...</td>\n",
       "      <td>2005</td>\n",
       "    </tr>\n",
       "    <tr>\n",
       "      <th>2</th>\n",
       "      <td>2</td>\n",
       "      <td>2</td>\n",
       "      <td>A</td>\n",
       "      <td>1090872</td>\n",
       "      <td>0001564590-18-000605.txt</td>\n",
       "      <td>http://www.sec.gov/Archives/edgar/data/1090872...</td>\n",
       "      <td>Health Care</td>\n",
       "      <td>0001564590-18-000605.txt : 20180118 0001564590...</td>\n",
       "      <td>2018-01-18 16:09:52</td>\n",
       "      <td>['Item 5.02', 'Item 9.01']</td>\n",
       "      <td>0.47</td>\n",
       "      <td>12.22</td>\n",
       "      <td>1.22</td>\n",
       "      <td>5.17</td>\n",
       "      <td>3.38</td>\n",
       "      <td>39.20</td>\n",
       "      <td>stay</td>\n",
       "      <td>['accession', 'number', 'conformed', 'submissi...</td>\n",
       "      <td>815</td>\n",
       "    </tr>\n",
       "    <tr>\n",
       "      <th>3</th>\n",
       "      <td>3</td>\n",
       "      <td>3</td>\n",
       "      <td>A</td>\n",
       "      <td>1090872</td>\n",
       "      <td>0001090872-17-000015.txt</td>\n",
       "      <td>http://www.sec.gov/Archives/edgar/data/1090872...</td>\n",
       "      <td>Health Care</td>\n",
       "      <td>0001090872-17-000015.txt : 20171120 0001090872...</td>\n",
       "      <td>2017-11-20 16:09:02</td>\n",
       "      <td>['Item 2.02', 'Item 2.02', 'Item 9.01']</td>\n",
       "      <td>0.31</td>\n",
       "      <td>10.65</td>\n",
       "      <td>2.71</td>\n",
       "      <td>1.31</td>\n",
       "      <td>10.13</td>\n",
       "      <td>40.26</td>\n",
       "      <td>stay</td>\n",
       "      <td>['accession', 'number', 'conformed', 'submissi...</td>\n",
       "      <td>1794</td>\n",
       "    </tr>\n",
       "    <tr>\n",
       "      <th>4</th>\n",
       "      <td>4</td>\n",
       "      <td>4</td>\n",
       "      <td>A</td>\n",
       "      <td>1090872</td>\n",
       "      <td>0001090872-17-000011.txt</td>\n",
       "      <td>http://www.sec.gov/Archives/edgar/data/1090872...</td>\n",
       "      <td>Health Care</td>\n",
       "      <td>0001090872-17-000011.txt : 20170815 0001090872...</td>\n",
       "      <td>2017-08-15 16:12:29</td>\n",
       "      <td>['Item 2.02', 'Item 2.02', 'Item 9.01']</td>\n",
       "      <td>5.19</td>\n",
       "      <td>12.04</td>\n",
       "      <td>-0.21</td>\n",
       "      <td>-3.34</td>\n",
       "      <td>4.39</td>\n",
       "      <td>21.40</td>\n",
       "      <td>up</td>\n",
       "      <td>['accession', 'number', 'conformed', 'submissi...</td>\n",
       "      <td>1816</td>\n",
       "    </tr>\n",
       "  </tbody>\n",
       "</table>\n",
       "</div>"
      ],
      "text/plain": [
       "   Unnamed: 0  Unnamed: 0.1 ticker      cik                  doc_name  \\\n",
       "0           0             0      A  1090872  0001564590-18-006570.txt   \n",
       "1           1             1      A  1090872  0001090872-18-000002.txt   \n",
       "2           2             2      A  1090872  0001564590-18-000605.txt   \n",
       "3           3             3      A  1090872  0001090872-17-000015.txt   \n",
       "4           4             4      A  1090872  0001090872-17-000011.txt   \n",
       "\n",
       "                                            txt_link  GICS Sector  \\\n",
       "0  http://www.sec.gov/Archives/edgar/data/1090872...  Health Care   \n",
       "1  http://www.sec.gov/Archives/edgar/data/1090872...  Health Care   \n",
       "2  http://www.sec.gov/Archives/edgar/data/1090872...  Health Care   \n",
       "3  http://www.sec.gov/Archives/edgar/data/1090872...  Health Care   \n",
       "4  http://www.sec.gov/Archives/edgar/data/1090872...  Health Care   \n",
       "\n",
       "                                                text         release_date  \\\n",
       "0  0001564590-18-006570.txt : 20180322 0001564590...  2018-03-22 16:22:07   \n",
       "1  0001090872-18-000002.txt : 20180214 0001090872...  2018-02-14 16:27:02   \n",
       "2  0001564590-18-000605.txt : 20180118 0001564590...  2018-01-18 16:09:52   \n",
       "3  0001090872-17-000015.txt : 20171120 0001090872...  2017-11-20 16:09:02   \n",
       "4  0001090872-17-000011.txt : 20170815 0001090872...  2017-08-15 16:12:29   \n",
       "\n",
       "                                     items  price_change    vix  rm_week  \\\n",
       "0                            ['Item 5.07']          0.28  23.34    -0.41   \n",
       "1  ['Item 2.02', 'Item 2.02', 'Item 9.01']          7.22  19.26     1.95   \n",
       "2               ['Item 5.02', 'Item 9.01']          0.47  12.22     1.22   \n",
       "3  ['Item 2.02', 'Item 2.02', 'Item 9.01']          0.31  10.65     2.71   \n",
       "4  ['Item 2.02', 'Item 2.02', 'Item 9.01']          5.19  12.04    -0.21   \n",
       "\n",
       "   rm_month  rm_qtr  rm_year signal  \\\n",
       "0     -3.07    2.01    26.67   stay   \n",
       "1     -5.76   -3.94    35.67     up   \n",
       "2      5.17    3.38    39.20   stay   \n",
       "3      1.31   10.13    40.26   stay   \n",
       "4     -3.34    4.39    21.40     up   \n",
       "\n",
       "                                      processed_text  text_len  \n",
       "0  ['accession', 'number', 'conformed', 'submissi...       310  \n",
       "1  ['accession', 'number', 'conformed', 'submissi...      2005  \n",
       "2  ['accession', 'number', 'conformed', 'submissi...       815  \n",
       "3  ['accession', 'number', 'conformed', 'submissi...      1794  \n",
       "4  ['accession', 'number', 'conformed', 'submissi...      1816  "
      ]
     },
     "execution_count": 120,
     "metadata": {},
     "output_type": "execute_result"
    }
   ],
   "source": [
    "df = pd.read_csv(\"Data/lemmatized_text.csv\")\n",
    "df.head()"
   ]
  },
  {
   "cell_type": "code",
   "execution_count": 121,
   "metadata": {
    "scrolled": true
   },
   "outputs": [],
   "source": [
    "df.drop(['Unnamed: 0','Unnamed: 0.1',\"doc_name\",'txt_link','text'],axis=1,inplace=True)\n",
    "df['items'] = df['items'].map(lambda x: ast.literal_eval(x))\n",
    "df['items'] = df['items'].map(lambda items: [' '.join(x.split()) for x in items])"
   ]
  },
  {
   "cell_type": "code",
   "execution_count": 122,
   "metadata": {
    "scrolled": false
   },
   "outputs": [
    {
     "name": "stderr",
     "output_type": "stream",
     "text": [
      "/home/Yusuf/anaconda3/lib/python3.6/site-packages/matplotlib/axes/_axes.py:6462: UserWarning: The 'normed' kwarg is deprecated, and has been replaced by the 'density' kwarg.\n",
      "  warnings.warn(\"The 'normed' kwarg is deprecated, and has been \"\n"
     ]
    },
    {
     "data": {
      "image/png": "[encoded data removed]",
      "text/plain": [
       "<Figure size 432x288 with 1 Axes>"
      ]
     },
     "metadata": {},
     "output_type": "display_data"
    }
   ],
   "source": [
    "plt.style.use(\"ggplot\")\n",
    "df['text_len'].plot.hist(bins=50,normed=True)\n",
    "plt.xlabel(\"Document Length\")\n",
    "plt.show()"
   ]
  },
  {
   "cell_type": "code",
   "execution_count": 123,
   "metadata": {},
   "outputs": [
    {
     "data": {
      "text/plain": [
       "34603"
      ]
     },
     "execution_count": 123,
     "metadata": {},
     "output_type": "execute_result"
    }
   ],
   "source": [
    "int(df['text_len'].quantile(.9))"
   ]
  },
  {
   "cell_type": "code",
   "execution_count": 124,
   "metadata": {
    "scrolled": false
   },
   "outputs": [
    {
     "data": {
      "text/plain": [
       "count    1.671000e+04\n",
       "mean     1.951087e+04\n",
       "std      7.462709e+04\n",
       "min      9.500000e+01\n",
       "25%      6.800000e+02\n",
       "50%      1.902500e+03\n",
       "75%      8.176750e+03\n",
       "max      2.934190e+06\n",
       "Name: text_len, dtype: float64"
      ]
     },
     "execution_count": 124,
     "metadata": {},
     "output_type": "execute_result"
    }
   ],
   "source": [
    "df['text_len'].describe()"
   ]
  },
  {
   "cell_type": "code",
   "execution_count": 125,
   "metadata": {},
   "outputs": [
    {
     "data": {
      "text/plain": [
       "425"
      ]
     },
     "execution_count": 125,
     "metadata": {},
     "output_type": "execute_result"
    }
   ],
   "source": [
    "df['ticker'].nunique()"
   ]
  },
  {
   "cell_type": "code",
   "execution_count": 126,
   "metadata": {},
   "outputs": [
    {
     "data": {
      "image/png": "[encoded data removed]",
      "text/plain": [
       "<Figure size 432x288 with 1 Axes>"
      ]
     },
     "metadata": {},
     "output_type": "display_data"
    }
   ],
   "source": [
    "sns.countplot(y=df['GICS Sector'])\n",
    "plt.savefig(\"Graphs/sectors.png\",format=\"png\")\n",
    "plt.show()"
   ]
  },
  {
   "cell_type": "code",
   "execution_count": 127,
   "metadata": {
    "scrolled": false
   },
   "outputs": [
    {
     "data": {
      "image/png": "[encoded data removed]",
      "text/plain": [
       "<Figure size 432x288 with 1 Axes>"
      ]
     },
     "metadata": {},
     "output_type": "display_data"
    }
   ],
   "source": [
    "#Count plot of signals\n",
    "sns.countplot(df['signal'])\n",
    "plt.show()"
   ]
  },
  {
   "cell_type": "markdown",
   "metadata": {},
   "source": [
    "Classes are imbalanced, will need to adjust"
   ]
  },
  {
   "cell_type": "code",
   "execution_count": 128,
   "metadata": {},
   "outputs": [
    {
     "data": {
      "image/png": "[encoded data removed]",
      "text/plain": [
       "<Figure size 432x288 with 1 Axes>"
      ]
     },
     "metadata": {},
     "output_type": "display_data"
    }
   ],
   "source": [
    "df['release_date'] = df['release_date'].map(lambda x: pd.to_datetime(x))\n",
    "sns.countplot(pd.DatetimeIndex(df['release_date']).year)\n",
    "plt.savefig(\"Graphs/year_balances.png\",format=\"png\")\n",
    "plt.show()"
   ]
  }
 ],
 "metadata": {
  "kernelspec": {
   "display_name": "Python 3",
   "language": "python",
   "name": "python3"
  },
  "language_info": {
   "codemirror_mode": {
    "name": "ipython",
    "version": 3
   },
   "file_extension": ".py",
   "mimetype": "text/x-python",
   "name": "python",
   "nbconvert_exporter": "python",
   "pygments_lexer": "ipython3",
   "version": "3.6.5"
  }
 },
 "nbformat": 4,
 "nbformat_minor": 2
}
